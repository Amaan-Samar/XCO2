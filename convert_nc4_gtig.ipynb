{
 "cells": [
  {
   "cell_type": "code",
   "execution_count": 1,
   "metadata": {},
   "outputs": [],
   "source": [
    "from osgeo import gdal\n",
    "from osgeo import ogr\n",
    "\n",
    "import numpy as np\n",
    "import pandas as pd\n",
    "import matplotlib.pyplot as plt\n",
    "import matplotlib\n",
    "import os\n",
    "import netCDF4 as nc\n",
    "\n",
    "# converting the datetime format\n",
    "from datetime import datetime"
   ]
  },
  {
   "cell_type": "code",
   "execution_count": 2,
   "metadata": {},
   "outputs": [],
   "source": [
    "# DATE time function\n",
    "def conv_date(d):\n",
    "    return datetime.strptime(str(d), '%Y%m%d%H%M%S%f')"
   ]
  },
  {
   "cell_type": "code",
   "execution_count": 12,
   "metadata": {},
   "outputs": [],
   "source": [
    "# FUNCTION to convert data\n",
    "def convHdf(path_file, n=0):\n",
    "    city_lat,city_lon = 31.57,74.40\n",
    "\n",
    "    data= nc.Dataset(path_file)\n",
    "\n",
    "    # get the HDF data and convert to CSV\n",
    "    df_xco2= pd.DataFrame()\n",
    "\n",
    "    df_xco2['Xco2']= data.variables['xco2'][:]\n",
    "    df_xco2['Latitude']= data.variables['latitude'][:]\n",
    "    df_xco2['Longitude']= data.variables['longitude'][:] \n",
    "    df_xco2['quality_flag']= data.variables['xco2_quality_flag'][:] \n",
    "    \n",
    "    # Date\n",
    "    df_xco2['DateTime']= data.variables['sounding_id'][:]\n",
    "    \n",
    "    #Convert soundingID to datetime format\n",
    "    df_xco2['DateTime']= df_xco2['DateTime'].apply(conv_date)\n",
    "    df_xco2['DateTime']= pd.to_datetime(df_xco2['DateTime'])\n",
    "    \n",
    "    # YEAR and month column\n",
    "    df_xco2['Year']= df_xco2['DateTime'].dt.year\n",
    "    df_xco2['Month']= df_xco2['DateTime'].dt.month\n",
    "    df_xco2['Day']= df_xco2['DateTime'].dt.day\n",
    "    \n",
    "    # Refine the ENTIRE dataframe by GOOD quality_flag->0\n",
    "    # NOTE: REDUCES the size of the file\n",
    "    df_xco2= df_xco2[df_xco2['quality_flag'] == 0]   \n",
    "    \n",
    "   \n",
    "    date= str(data.variables['sounding_id'][0])      \n",
    "    \n",
    "    # create a CSV and store on new folder: csv_files\n",
    "    # df_xco2.to_csv('oco2_xco2_'+ date+'_.csv', index= False)\n",
    "\n",
    "    lat = df_xco2['Latitude']\n",
    "    lon = df_xco2['Longitude']\n",
    "\n",
    "    sq_diff_lat = (lat - city_lat)**2\n",
    "    sq_diff_lon = (lon - city_lon)**2\n",
    "\n",
    "    # Compute the index of the lat lon\n",
    "    min_index_lat = sq_diff_lat.argmin()\n",
    "    min_index_lon = sq_diff_lon.argmin()\n",
    "\n",
    "    print(min_index_lat,min_index_lon)\n",
    "    print(df_xco2[min_index_lat])"
   ]
  },
  {
   "cell_type": "code",
   "execution_count": 10,
   "metadata": {},
   "outputs": [],
   "source": [
    "path_file= './CO2_Files/oco2_LtCO2_140906_B11100Ar_230523232559s.nc4'"
   ]
  },
  {
   "cell_type": "code",
   "execution_count": 9,
   "metadata": {},
   "outputs": [
    {
     "data": {
      "text/plain": [
       "'f:\\\\Subhan_Ali_Kazmi\\\\notebooks\\\\XCO'"
      ]
     },
     "execution_count": 9,
     "metadata": {},
     "output_type": "execute_result"
    }
   ],
   "source": [
    "# os.chdir('./XCO')\n",
    "os.getcwd()"
   ]
  },
  {
   "cell_type": "code",
   "execution_count": 11,
   "metadata": {},
   "outputs": [],
   "source": [
    "# call the function and pass the file path\n",
    "convHdf(path_file)"
   ]
  },
  {
   "cell_type": "code",
   "execution_count": 6,
   "metadata": {},
   "outputs": [],
   "source": [
    "df_2019= pd.read_csv('oco2_xco2_2014090602072531_.csv')"
   ]
  },
  {
   "cell_type": "code",
   "execution_count": 14,
   "metadata": {},
   "outputs": [
    {
     "data": {
      "text/html": [
       "<div>\n",
       "<style scoped>\n",
       "    .dataframe tbody tr th:only-of-type {\n",
       "        vertical-align: middle;\n",
       "    }\n",
       "\n",
       "    .dataframe tbody tr th {\n",
       "        vertical-align: top;\n",
       "    }\n",
       "\n",
       "    .dataframe thead th {\n",
       "        text-align: right;\n",
       "    }\n",
       "</style>\n",
       "<table border=\"1\" class=\"dataframe\">\n",
       "  <thead>\n",
       "    <tr style=\"text-align: right;\">\n",
       "      <th></th>\n",
       "      <th>Xco2</th>\n",
       "      <th>Latitude</th>\n",
       "      <th>Longitude</th>\n",
       "      <th>quality_flag</th>\n",
       "      <th>DateTime</th>\n",
       "      <th>Year</th>\n",
       "      <th>Month</th>\n",
       "      <th>Day</th>\n",
       "    </tr>\n",
       "  </thead>\n",
       "  <tbody>\n",
       "    <tr>\n",
       "      <th>0</th>\n",
       "      <td>392.70150</td>\n",
       "      <td>54.485320</td>\n",
       "      <td>160.50188</td>\n",
       "      <td>0</td>\n",
       "      <td>2014-09-06 02:07:25.710</td>\n",
       "      <td>2014</td>\n",
       "      <td>9</td>\n",
       "      <td>6</td>\n",
       "    </tr>\n",
       "    <tr>\n",
       "      <th>1</th>\n",
       "      <td>393.74164</td>\n",
       "      <td>54.482136</td>\n",
       "      <td>160.53796</td>\n",
       "      <td>0</td>\n",
       "      <td>2014-09-06 02:07:25.730</td>\n",
       "      <td>2014</td>\n",
       "      <td>9</td>\n",
       "      <td>6</td>\n",
       "    </tr>\n",
       "    <tr>\n",
       "      <th>2</th>\n",
       "      <td>394.21582</td>\n",
       "      <td>54.503334</td>\n",
       "      <td>160.51003</td>\n",
       "      <td>0</td>\n",
       "      <td>2014-09-06 02:07:26.020</td>\n",
       "      <td>2014</td>\n",
       "      <td>9</td>\n",
       "      <td>6</td>\n",
       "    </tr>\n",
       "    <tr>\n",
       "      <th>3</th>\n",
       "      <td>394.28003</td>\n",
       "      <td>54.501705</td>\n",
       "      <td>160.52809</td>\n",
       "      <td>0</td>\n",
       "      <td>2014-09-06 02:07:26.030</td>\n",
       "      <td>2014</td>\n",
       "      <td>9</td>\n",
       "      <td>6</td>\n",
       "    </tr>\n",
       "  </tbody>\n",
       "</table>\n",
       "</div>"
      ],
      "text/plain": [
       "        Xco2   Latitude  Longitude  quality_flag                 DateTime  \\\n",
       "0  392.70150  54.485320  160.50188             0  2014-09-06 02:07:25.710   \n",
       "1  393.74164  54.482136  160.53796             0  2014-09-06 02:07:25.730   \n",
       "2  394.21582  54.503334  160.51003             0  2014-09-06 02:07:26.020   \n",
       "3  394.28003  54.501705  160.52809             0  2014-09-06 02:07:26.030   \n",
       "\n",
       "   Year  Month  Day  \n",
       "0  2014      9    6  \n",
       "1  2014      9    6  \n",
       "2  2014      9    6  \n",
       "3  2014      9    6  "
      ]
     },
     "execution_count": 14,
     "metadata": {},
     "output_type": "execute_result"
    }
   ],
   "source": [
    "df_2019.head(4)\n"
   ]
  },
  {
   "cell_type": "code",
   "execution_count": 7,
   "metadata": {},
   "outputs": [],
   "source": [
    "if not os.path.exists('json_format'):\n",
    "    os.makedirs('json_format')\n",
    "else:\n",
    "    print(\"Directory exists!\")"
   ]
  },
  {
   "cell_type": "code",
   "execution_count": 8,
   "metadata": {},
   "outputs": [
    {
     "data": {
      "text/plain": [
       "<osgeo.gdal.Dataset; proxy of <Swig Object of type 'GDALDatasetShadow *' at 0x0000027C72404540> >"
      ]
     },
     "execution_count": 8,
     "metadata": {},
     "output_type": "execute_result"
    }
   ],
   "source": [
    "# !ogr2ogr -oo X_POSSIBLE_NAMES=Longitude -oo Y_POSSIBLE_NAMES=Latitude -a_srs \"EPSG:4326\" json_format/oco2_2020.json oco2_xco2_2014090602072531_.csv\n",
    "\n",
    "from osgeo import gdal\n",
    "gdal.VectorTranslate('json_format/oco2_2014.json', 'oco2_xco2_2014090602072531_.csv', options='-oo X_POSSIBLE_NAMES=Longitude -oo Y_POSSIBLE_NAMES=Latitude -a_srs \"EPSG:4326\"')"
   ]
  },
  {
   "cell_type": "code",
   "execution_count": 11,
   "metadata": {},
   "outputs": [],
   "source": [
    "!mkdir tif_format"
   ]
  },
  {
   "cell_type": "code",
   "execution_count": 26,
   "metadata": {},
   "outputs": [],
   "source": [
    "# !gdal_rasterize -a Xco2 -a_nodata 0 -ts 712 356 json_format/oco2_2020.json tif_format/oco2_2020.tif\n",
    "\n",
    "from osgeo import gdal\n",
    "options = gdal.RasterizeOptions(options='-a Xco2 -a_nodata 0 -ts 512 256')\n",
    "gdal.Rasterize('tif_format/oco2_2020.tif','json_format/oco2_2014.json',  options=options)\n"
   ]
  },
  {
   "cell_type": "code",
   "execution_count": null,
   "metadata": {},
   "outputs": [],
   "source": [
    "!dir"
   ]
  },
  {
   "cell_type": "code",
   "execution_count": null,
   "metadata": {},
   "outputs": [],
   "source": [
    "if not os.path.exists('color_tif_file'):\n",
    "    os.makedirs('color_tif_file')\n",
    "else:\n",
    "    print(\"Directory exists!\")"
   ]
  },
  {
   "cell_type": "code",
   "execution_count": 19,
   "metadata": {},
   "outputs": [
    {
     "ename": "ValueError",
     "evalue": "Received a NULL pointer.",
     "output_type": "error",
     "traceback": [
      "\u001b[1;31m---------------------------------------------------------------------------\u001b[0m",
      "\u001b[1;31mValueError\u001b[0m                                Traceback (most recent call last)",
      "\u001b[1;32mf:\\Subhan_Ali_Kazmi\\notebooks\\XCO\\convert_nc4_gtig.ipynb Cell 14\u001b[0m line \u001b[0;36m3\n\u001b[0;32m      <a href='vscode-notebook-cell:/f%3A/Subhan_Ali_Kazmi/notebooks/XCO/convert_nc4_gtig.ipynb#W4sZmlsZQ%3D%3D?line=0'>1</a>\u001b[0m \u001b[39m# !gdaldem color-relief -alpha tif_format/oco2_2020.tif colormap.txt color_tif_file/oco2_2020_color.tif\u001b[39;00m\n\u001b[0;32m      <a href='vscode-notebook-cell:/f%3A/Subhan_Ali_Kazmi/notebooks/XCO/convert_nc4_gtig.ipynb#W4sZmlsZQ%3D%3D?line=1'>2</a>\u001b[0m \u001b[39mfrom\u001b[39;00m \u001b[39mosgeo\u001b[39;00m \u001b[39mimport\u001b[39;00m gdal\n\u001b[1;32m----> <a href='vscode-notebook-cell:/f%3A/Subhan_Ali_Kazmi/notebooks/XCO/convert_nc4_gtig.ipynb#W4sZmlsZQ%3D%3D?line=2'>3</a>\u001b[0m gdal\u001b[39m.\u001b[39;49mDEMProcessing(\u001b[39m'\u001b[39;49m\u001b[39mcolor_tif_file/oco2_2014_color.tif\u001b[39;49m\u001b[39m'\u001b[39;49m, \u001b[39m'\u001b[39;49m\u001b[39mtif_format/oco2_2020.tif\u001b[39;49m\u001b[39m'\u001b[39;49m, \u001b[39m'\u001b[39;49m\u001b[39mcolor-relief\u001b[39;49m\u001b[39m'\u001b[39;49m, colorFilename\u001b[39m=\u001b[39;49m\u001b[39m'\u001b[39;49m\u001b[39mcolormap.txt\u001b[39;49m\u001b[39m'\u001b[39;49m, addAlpha\u001b[39m=\u001b[39;49m\u001b[39mTrue\u001b[39;49;00m)\n",
      "File \u001b[1;32me:\\python_Env\\lib\\site-packages\\osgeo\\gdal.py:1127\u001b[0m, in \u001b[0;36mDEMProcessing\u001b[1;34m(destName, srcDS, processing, **kwargs)\u001b[0m\n\u001b[0;32m   1124\u001b[0m \u001b[39mif\u001b[39;00m \u001b[39misinstance\u001b[39m(srcDS, \u001b[39mstr\u001b[39m):\n\u001b[0;32m   1125\u001b[0m     srcDS \u001b[39m=\u001b[39m Open(srcDS)\n\u001b[1;32m-> 1127\u001b[0m \u001b[39mreturn\u001b[39;00m DEMProcessingInternal(destName, srcDS, processing, colorFilename, opts, callback, callback_data)\n",
      "File \u001b[1;32me:\\python_Env\\lib\\site-packages\\osgeo\\gdal.py:4855\u001b[0m, in \u001b[0;36mDEMProcessingInternal\u001b[1;34m(*args)\u001b[0m\n\u001b[0;32m   4853\u001b[0m \u001b[39mdef\u001b[39;00m \u001b[39mDEMProcessingInternal\u001b[39m(\u001b[39m*\u001b[39margs) \u001b[39m-\u001b[39m\u001b[39m>\u001b[39m \u001b[39m\"\u001b[39m\u001b[39mGDALDatasetShadow *\u001b[39m\u001b[39m\"\u001b[39m:\n\u001b[0;32m   4854\u001b[0m \u001b[39m    \u001b[39m\u001b[39mr\u001b[39m\u001b[39m\"\"\"DEMProcessingInternal(char const * dest, Dataset dataset, char const * pszProcessing, char const * pszColorFilename, GDALDEMProcessingOptions options, GDALProgressFunc callback=0, void * callback_data=None) -> Dataset\"\"\"\u001b[39;00m\n\u001b[1;32m-> 4855\u001b[0m     \u001b[39mreturn\u001b[39;00m _gdal\u001b[39m.\u001b[39;49mDEMProcessingInternal(\u001b[39m*\u001b[39;49margs)\n",
      "\u001b[1;31mValueError\u001b[0m: Received a NULL pointer."
     ]
    }
   ],
   "source": [
    "# !gdaldem color-relief -alpha tif_format/oco2_2020.tif colormap.txt color_tif_file/oco2_2020_color.tif\n",
    "from osgeo import gdal\n",
    "gdal.DEMProcessing('color_tif_file/oco2_2014_color.tif', 'tif_format/oco2_2020.tif', 'color-relief', colorFilename='colormap.txt', addAlpha=True)"
   ]
  },
  {
   "cell_type": "code",
   "execution_count": null,
   "metadata": {},
   "outputs": [],
   "source": [
    "if not os.path.exists('color_PNG_FILE'):\n",
    "    os.makedirs('color_PNG_FILE')\n",
    "else:\n",
    "    print(\"Directory exists\")"
   ]
  },
  {
   "cell_type": "code",
   "execution_count": null,
   "metadata": {},
   "outputs": [],
   "source": [
    "!gdal_translate -of PNG -co \"WORLDFILE=YES\" color_tif_file/oco2_2020_color.tif color_PNG_FILE/oco2_2020_PNG.png\n",
    "\n",
    "from osgeo import gdal\n",
    "gdal.Translate('color_PNG_FILE/oco2_2020_PNG.png', 'color_tif_file/oco2_2020_color.tif', format='PNG', creationOptions=['WORLDFILE=YES'])"
   ]
  },
  {
   "cell_type": "code",
   "execution_count": null,
   "metadata": {},
   "outputs": [],
   "source": [
    "dataset_a= gdal.Open('color_tif_file/oco2_2020_color.tif', gdal.GA_ReadOnly)\n"
   ]
  },
  {
   "cell_type": "code",
   "execution_count": null,
   "metadata": {},
   "outputs": [],
   "source": [
    "band= dataset_a.GetRasterBand(4)\n",
    "\n",
    "arr= band.ReadAsArray()\n",
    "plt.imshow(arr)"
   ]
  }
 ],
 "metadata": {
  "kernelspec": {
   "display_name": "Python 3",
   "language": "python",
   "name": "python3"
  },
  "language_info": {
   "codemirror_mode": {
    "name": "ipython",
    "version": 3
   },
   "file_extension": ".py",
   "mimetype": "text/x-python",
   "name": "python",
   "nbconvert_exporter": "python",
   "pygments_lexer": "ipython3",
   "version": "3.10.9"
  },
  "orig_nbformat": 4
 },
 "nbformat": 4,
 "nbformat_minor": 2
}
